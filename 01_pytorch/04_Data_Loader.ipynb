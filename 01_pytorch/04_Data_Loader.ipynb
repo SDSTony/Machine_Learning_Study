{
 "cells": [
  {
   "cell_type": "markdown",
   "id": "dominican-myanmar",
   "metadata": {},
   "source": [
    "### Import"
   ]
  },
  {
   "cell_type": "code",
   "execution_count": 1,
   "id": "coastal-brazilian",
   "metadata": {},
   "outputs": [],
   "source": [
    "import numpy as np\n",
    "import torch"
   ]
  },
  {
   "cell_type": "markdown",
   "id": "economic-parking",
   "metadata": {},
   "source": [
    "### Data"
   ]
  },
  {
   "cell_type": "code",
   "execution_count": 2,
   "id": "appointed-trial",
   "metadata": {},
   "outputs": [],
   "source": [
    "data_size = 10000\n",
    "x_train = np.random.rand(data_size, 5)\n",
    "y_train = np.random.rand(data_size, 1)"
   ]
  },
  {
   "cell_type": "code",
   "execution_count": 3,
   "id": "physical-treatment",
   "metadata": {},
   "outputs": [
    {
     "data": {
      "text/plain": [
       "(10000, 5)"
      ]
     },
     "execution_count": 3,
     "metadata": {},
     "output_type": "execute_result"
    }
   ],
   "source": [
    "x_train.shape"
   ]
  },
  {
   "cell_type": "code",
   "execution_count": 4,
   "id": "round-measurement",
   "metadata": {},
   "outputs": [
    {
     "data": {
      "text/plain": [
       "(10000, 1)"
      ]
     },
     "execution_count": 4,
     "metadata": {},
     "output_type": "execute_result"
    }
   ],
   "source": [
    "y_train.shape"
   ]
  },
  {
   "cell_type": "markdown",
   "id": "educational-copyright",
   "metadata": {},
   "source": [
    "### Pytorch DataSet"
   ]
  },
  {
   "cell_type": "code",
   "execution_count": 5,
   "id": "coupled-issue",
   "metadata": {},
   "outputs": [],
   "source": [
    "from torch.utils.data import Dataset"
   ]
  },
  {
   "cell_type": "code",
   "execution_count": 6,
   "id": "interested-clone",
   "metadata": {},
   "outputs": [],
   "source": [
    "class CustomDataset(Dataset):\n",
    "    def __init__(self, x_data, y_data):\n",
    "        assert len(x_data) == len(y_data)\n",
    "        self.x_data = x_data\n",
    "        self.y_data = y_data\n",
    "        \n",
    "    def __len__(self):\n",
    "        return len(self.x_data)\n",
    "    \n",
    "    def __getitem__(self, idx):\n",
    "        x = torch.FloatTensor(self.x_data[idx])\n",
    "        y = torch.FloatTensor(self.y_data[idx])\n",
    "        return x, y"
   ]
  },
  {
   "cell_type": "code",
   "execution_count": 7,
   "id": "danish-greene",
   "metadata": {},
   "outputs": [],
   "source": [
    "dataset = CustomDataset(x_train, y_train)"
   ]
  },
  {
   "cell_type": "markdown",
   "id": "removable-customs",
   "metadata": {},
   "source": [
    "#### 1. Shape 확인"
   ]
  },
  {
   "cell_type": "code",
   "execution_count": 8,
   "id": "constitutional-metabolism",
   "metadata": {},
   "outputs": [
    {
     "data": {
      "text/plain": [
       "(10000, 5)"
      ]
     },
     "execution_count": 8,
     "metadata": {},
     "output_type": "execute_result"
    }
   ],
   "source": [
    "dataset.x_data.shape"
   ]
  },
  {
   "cell_type": "code",
   "execution_count": 9,
   "id": "accompanied-myrtle",
   "metadata": {},
   "outputs": [
    {
     "data": {
      "text/plain": [
       "(10000, 1)"
      ]
     },
     "execution_count": 9,
     "metadata": {},
     "output_type": "execute_result"
    }
   ],
   "source": [
    "dataset.y_data.shape"
   ]
  },
  {
   "cell_type": "markdown",
   "id": "controlled-disclaimer",
   "metadata": {},
   "source": [
    "#### 2. Length 확인"
   ]
  },
  {
   "cell_type": "code",
   "execution_count": 10,
   "id": "contrary-alloy",
   "metadata": {},
   "outputs": [
    {
     "data": {
      "text/plain": [
       "10000"
      ]
     },
     "execution_count": 10,
     "metadata": {},
     "output_type": "execute_result"
    }
   ],
   "source": [
    "len(dataset)"
   ]
  },
  {
   "cell_type": "markdown",
   "id": "marked-hawaiian",
   "metadata": {},
   "source": [
    "#### 3. Indexing 확인"
   ]
  },
  {
   "cell_type": "code",
   "execution_count": 11,
   "id": "controversial-dialogue",
   "metadata": {},
   "outputs": [
    {
     "data": {
      "text/plain": [
       "(tensor([[0.0657, 0.7560, 0.8256, 0.7502, 0.8265],\n",
       "         [0.5191, 0.9997, 0.8264, 0.9663, 0.0351],\n",
       "         [0.2699, 0.9376, 0.1843, 0.8808, 0.9254]]),\n",
       " tensor([[0.9059],\n",
       "         [0.4412],\n",
       "         [0.2362]]))"
      ]
     },
     "execution_count": 11,
     "metadata": {},
     "output_type": "execute_result"
    }
   ],
   "source": [
    "dataset[0:3]"
   ]
  },
  {
   "cell_type": "markdown",
   "id": "informational-anime",
   "metadata": {},
   "source": [
    "### Pytorch DataLoader"
   ]
  },
  {
   "cell_type": "code",
   "execution_count": 12,
   "id": "herbal-species",
   "metadata": {},
   "outputs": [],
   "source": [
    "from torch.utils.data import DataLoader"
   ]
  },
  {
   "cell_type": "code",
   "execution_count": 13,
   "id": "bacterial-capture",
   "metadata": {},
   "outputs": [],
   "source": [
    "dataloader = DataLoader(dataset, batch_size=3, shuffle=False)"
   ]
  },
  {
   "cell_type": "code",
   "execution_count": 14,
   "id": "asian-shell",
   "metadata": {},
   "outputs": [],
   "source": [
    "for samples in dataloader:\n",
    "    batch_x_train, batch_y_train = samples\n",
    "    break"
   ]
  },
  {
   "cell_type": "code",
   "execution_count": 15,
   "id": "intended-dress",
   "metadata": {},
   "outputs": [
    {
     "data": {
      "text/plain": [
       "tensor([[0.0657, 0.7560, 0.8256, 0.7502, 0.8265],\n",
       "        [0.5191, 0.9997, 0.8264, 0.9663, 0.0351],\n",
       "        [0.2699, 0.9376, 0.1843, 0.8808, 0.9254]])"
      ]
     },
     "execution_count": 15,
     "metadata": {},
     "output_type": "execute_result"
    }
   ],
   "source": [
    "batch_x_train"
   ]
  },
  {
   "cell_type": "code",
   "execution_count": 16,
   "id": "quantitative-association",
   "metadata": {},
   "outputs": [
    {
     "data": {
      "text/plain": [
       "tensor([[0.9059],\n",
       "        [0.4412],\n",
       "        [0.2362]])"
      ]
     },
     "execution_count": 16,
     "metadata": {},
     "output_type": "execute_result"
    }
   ],
   "source": [
    "batch_y_train"
   ]
  }
 ],
 "metadata": {
  "kernelspec": {
   "display_name": "Python [conda env:pytorch]",
   "language": "python",
   "name": "conda-env-pytorch-py"
  },
  "language_info": {
   "codemirror_mode": {
    "name": "ipython",
    "version": 3
   },
   "file_extension": ".py",
   "mimetype": "text/x-python",
   "name": "python",
   "nbconvert_exporter": "python",
   "pygments_lexer": "ipython3",
   "version": "3.7.9"
  }
 },
 "nbformat": 4,
 "nbformat_minor": 5
}
